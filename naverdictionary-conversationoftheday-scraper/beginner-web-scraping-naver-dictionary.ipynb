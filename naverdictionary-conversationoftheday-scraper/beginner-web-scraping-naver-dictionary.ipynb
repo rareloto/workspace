{
 "cells": [
  {
   "cell_type": "markdown",
   "execution_count": null,
   "metadata": {
    "papermill": {
     "duration": 0.014986,
     "end_time": "2020-08-17T23:05:52.239802",
     "exception": false,
     "start_time": "2020-08-17T23:05:52.224816",
     "status": "completed"
    },
    "tags": []
   },
   "source": [
    "# Naver Conversation of the Day"
   ]
  },
  {
   "cell_type": "markdown",
   "execution_count": null,
   "metadata": {
    "papermill": {
     "duration": 0.012158,
     "end_time": "2020-08-17T23:05:52.265639",
     "exception": false,
     "start_time": "2020-08-17T23:05:52.253481",
     "status": "completed"
    },
    "tags": []
   },
   "source": [
    "![Conversation of the Day](https://raw.githubusercontent.com/rareloto/workspace/master/naverdictionary-conversationoftheday-scraper/naver-conversationoftheday-20200815-cropped.png)"
   ]
  },
  {
   "cell_type": "markdown",
   "execution_count": null,
   "metadata": {
    "papermill": {
     "duration": 0.012191,
     "end_time": "2020-08-17T23:05:52.292446",
     "exception": false,
     "start_time": "2020-08-17T23:05:52.280255",
     "status": "completed"
    },
    "tags": []
   },
   "source": [
    "Hi! Welcome to my notebook.\n",
    "\n",
    "I want to create a compilation of **Korean - English sentence pairs** from **Naver Dictionary's Conversation of the Day**.\n",
    "\n",
    "At first I thought, I could type them out one by one, day by day to reinforce my Korean language learning in addition to creating a dataset for future projects (*like maybe a bilingual AI chatbot*).\n",
    "\n",
    "But then, I remembered something called **'web scraping'**. Simply put, it is a technique of automatically extracting (*or scraping*) specific data you want from websites and saving them to a file or a database.\n",
    "\n",
    "In this notebook, I'm going to take my first dip in web scraping in order to compile months, years of 'Conversation of the Day' from [Naver Dictionary](https://learn.dict.naver.com/conversation#/korean-en)."
   ]
  },
  {
   "cell_type": "markdown",
   "execution_count": null,
   "metadata": {
    "papermill": {
     "duration": 0.012098,
     "end_time": "2020-08-17T23:05:52.317105",
     "exception": false,
     "start_time": "2020-08-17T23:05:52.305007",
     "status": "completed"
    },
    "tags": []
   },
   "source": [
    "# What I'm Expecting to Get From Scraping"
   ]
  },
  {
   "cell_type": "code",
   "execution_count": 1,
   "metadata": {
    "execution": {
     "iopub.execute_input": "2020-08-17T23:05:52.356385Z",
     "iopub.status.busy": "2020-08-17T23:05:52.355509Z",
     "iopub.status.idle": "2020-08-17T23:05:52.403328Z",
     "shell.execute_reply": "2020-08-17T23:05:52.402594Z"
    },
    "papermill": {
     "duration": 0.073781,
     "end_time": "2020-08-17T23:05:52.403487",
     "exception": false,
     "start_time": "2020-08-17T23:05:52.329706",
     "status": "completed"
    },
    "tags": []
   },
   "outputs": [
    {
     "data": {
      "text/html": [
       "<div>\n",
       "<style scoped>\n",
       "    .dataframe tbody tr th:only-of-type {\n",
       "        vertical-align: middle;\n",
       "    }\n",
       "\n",
       "    .dataframe tbody tr th {\n",
       "        vertical-align: top;\n",
       "    }\n",
       "\n",
       "    .dataframe thead th {\n",
       "        text-align: right;\n",
       "    }\n",
       "</style>\n",
       "<table border=\"1\" class=\"dataframe\">\n",
       "  <thead>\n",
       "    <tr style=\"text-align: right;\">\n",
       "      <th></th>\n",
       "      <th>date</th>\n",
       "      <th>conversation_id</th>\n",
       "      <th>kor_sent</th>\n",
       "      <th>eng_sent</th>\n",
       "    </tr>\n",
       "  </thead>\n",
       "  <tbody>\n",
       "    <tr>\n",
       "      <th>0</th>\n",
       "      <td>20200817</td>\n",
       "      <td>0</td>\n",
       "      <td></td>\n",
       "      <td></td>\n",
       "    </tr>\n",
       "    <tr>\n",
       "      <th>1</th>\n",
       "      <td>20200817</td>\n",
       "      <td>1</td>\n",
       "      <td>스티브 씨도 오늘 동호외 모임에 갈 가지요?</td>\n",
       "      <td>Mr. Steve, are you going to the club meeting?</td>\n",
       "    </tr>\n",
       "    <tr>\n",
       "      <th>2</th>\n",
       "      <td>20200817</td>\n",
       "      <td>2</td>\n",
       "      <td>서연 씨도 갈까요?</td>\n",
       "      <td>Is Ms. Seoyon going, too?</td>\n",
       "    </tr>\n",
       "    <tr>\n",
       "      <th>3</th>\n",
       "      <td>20200817</td>\n",
       "      <td>3</td>\n",
       "      <td>특별한 일이 없으니까 아마 갈 거예요.</td>\n",
       "      <td>Maybe she will go because she has nothing spec...</td>\n",
       "    </tr>\n",
       "    <tr>\n",
       "      <th>4</th>\n",
       "      <td>20200817</td>\n",
       "      <td>4</td>\n",
       "      <td>그럼 저도 갈게요.</td>\n",
       "      <td>Then, I will go, too.</td>\n",
       "    </tr>\n",
       "    <tr>\n",
       "      <th>5</th>\n",
       "      <td>20200817</td>\n",
       "      <td>5</td>\n",
       "      <td>혹시 서연 씨에게 관심 있는 거 아니에요?</td>\n",
       "      <td>By any chance, isn't it true that you are inte...</td>\n",
       "    </tr>\n",
       "    <tr>\n",
       "      <th>6</th>\n",
       "      <td>20200817</td>\n",
       "      <td>6</td>\n",
       "      <td>서연 씨에게 말하지 마세요. 비밀이에요</td>\n",
       "      <td>Don't tell Ms. Seoyon. It's a secret</td>\n",
       "    </tr>\n",
       "  </tbody>\n",
       "</table>\n",
       "</div>"
      ],
      "text/plain": [
       "       date  conversation_id                  kor_sent  \\\n",
       "0  20200817                0                             \n",
       "1  20200817                1  스티브 씨도 오늘 동호외 모임에 갈 가지요?   \n",
       "2  20200817                2                서연 씨도 갈까요?   \n",
       "3  20200817                3     특별한 일이 없으니까 아마 갈 거예요.   \n",
       "4  20200817                4                그럼 저도 갈게요.   \n",
       "5  20200817                5   혹시 서연 씨에게 관심 있는 거 아니에요?   \n",
       "6  20200817                6     서연 씨에게 말하지 마세요. 비밀이에요   \n",
       "\n",
       "                                            eng_sent  \n",
       "0                                                     \n",
       "1      Mr. Steve, are you going to the club meeting?  \n",
       "2                          Is Ms. Seoyon going, too?  \n",
       "3  Maybe she will go because she has nothing spec...  \n",
       "4                              Then, I will go, too.  \n",
       "5  By any chance, isn't it true that you are inte...  \n",
       "6               Don't tell Ms. Seoyon. It's a secret  "
      ]
     },
     "execution_count": 1,
     "metadata": {},
     "output_type": "execute_result"
    }
   ],
   "source": [
    "import pandas as pd\n",
    "\n",
    "convo_samp = pd.read_csv('../input/naver-dictionary-conversation-of-the-day/2008.csv').fillna('')\n",
    "convo_samp[['date', 'conversation_id', 'kor_sent', 'eng_sent']]"
   ]
  },
  {
   "cell_type": "code",
   "execution_count": 2,
   "metadata": {
    "execution": {
     "iopub.execute_input": "2020-08-17T23:05:52.435982Z",
     "iopub.status.busy": "2020-08-17T23:05:52.434932Z",
     "iopub.status.idle": "2020-08-17T23:05:52.440158Z",
     "shell.execute_reply": "2020-08-17T23:05:52.439372Z"
    },
    "papermill": {
     "duration": 0.023881,
     "end_time": "2020-08-17T23:05:52.440290",
     "exception": false,
     "start_time": "2020-08-17T23:05:52.416409",
     "status": "completed"
    },
    "tags": []
   },
   "outputs": [
    {
     "name": "stdout",
     "output_type": "stream",
     "text": [
      "Other columns:\n",
      " ['date', 'conversation_id', 'kor_sent', 'eng_sent', 'kor_title', 'eng_title', 'grammar', 'grammar_desc', 'grammar_kor_sent1', 'grammar_eng_sent1', 'grammar_kor_sent2', 'grammar_eng_sent2', 'grammar_kor_sent3', 'grammar_eng_sent3']\n"
     ]
    }
   ],
   "source": [
    "print('Other columns:\\n', list(convo_samp.columns))"
   ]
  },
  {
   "cell_type": "code",
   "execution_count": 3,
   "metadata": {
    "execution": {
     "iopub.execute_input": "2020-08-17T23:05:52.490798Z",
     "iopub.status.busy": "2020-08-17T23:05:52.489813Z",
     "iopub.status.idle": "2020-08-17T23:05:54.043439Z",
     "shell.execute_reply": "2020-08-17T23:05:54.042733Z"
    },
    "papermill": {
     "duration": 1.590171,
     "end_time": "2020-08-17T23:05:54.043606",
     "exception": false,
     "start_time": "2020-08-17T23:05:52.453435",
     "status": "completed"
    },
    "tags": []
   },
   "outputs": [],
   "source": [
    "import urllib.request\n",
    "import re\n",
    "\n",
    "# Let's try one webpage for now\n",
    "url = 'https://learn.dict.naver.com/conversation#/korean-en'\n",
    "\n",
    "page = urllib.request.urlopen(url)\n",
    "page = str(page.read().decode())\n",
    "\n",
    "# problem: not retrieving complete page html like Firefox html download does\n",
    "#          BeautifulSoup doesn't seem to retrieve complete html either\n",
    "# possible solution: should i try using headless firefox?\n",
    "# solved! - In-kernel Web scraping via a headless Firefox browser with Selenium at the bottom page"
   ]
  },
  {
   "cell_type": "markdown",
   "execution_count": null,
   "metadata": {
    "papermill": {
     "duration": 0.012812,
     "end_time": "2020-08-17T23:05:54.069582",
     "exception": false,
     "start_time": "2020-08-17T23:05:54.056770",
     "status": "completed"
    },
    "tags": []
   },
   "source": [
    "**Find patterns in the html code around the data we want to extract**"
   ]
  },
  {
   "cell_type": "markdown",
   "execution_count": null,
   "metadata": {
    "papermill": {
     "duration": 0.012512,
     "end_time": "2020-08-17T23:05:54.095167",
     "exception": false,
     "start_time": "2020-08-17T23:05:54.082655",
     "status": "completed"
    },
    "tags": []
   },
   "source": [
    "![View source code](https://raw.githubusercontent.com/rareloto/workspace/master/naverdictionary-conversationoftheday-scraper/photos/view-page-source-find-patterns-koreng.png)"
   ]
  },
  {
   "cell_type": "markdown",
   "execution_count": null,
   "metadata": {
    "papermill": {
     "duration": 0.012425,
     "end_time": "2020-08-17T23:05:54.120794",
     "exception": false,
     "start_time": "2020-08-17T23:05:54.108369",
     "status": "completed"
    },
    "tags": []
   },
   "source": [
    "**Extract data from html:** \n",
    "\n",
    "*Korean - English sentence pairs, grammar, related words, date*"
   ]
  },
  {
   "cell_type": "code",
   "execution_count": 4,
   "metadata": {
    "execution": {
     "iopub.execute_input": "2020-08-17T23:05:54.157071Z",
     "iopub.status.busy": "2020-08-17T23:05:54.156141Z",
     "iopub.status.idle": "2020-08-17T23:05:54.159795Z",
     "shell.execute_reply": "2020-08-17T23:05:54.159087Z"
    },
    "papermill": {
     "duration": 0.026273,
     "end_time": "2020-08-17T23:05:54.159932",
     "exception": false,
     "start_time": "2020-08-17T23:05:54.133659",
     "status": "completed"
    },
    "tags": []
   },
   "outputs": [],
   "source": [
    "# regex to find conversation date\n",
    "date = re.findall(r'var regionDate = \"([0-9]+)\"', page)\n",
    "# regex to find conversation title\n",
    "convo_title = re.findall(r'id=\"ogTitle\" content=\"(.+)\">', page)\n",
    "# regex to extract sentence pairs\n",
    "eng_sents = re.findall(r'<div class=\"txt_trans ng-binding\" ng-show=\"transDisplay\" ng-bind=\"item.trsl_sentence\">(.+)<.div>', page)\n",
    "# how to strip html from text - jxb-bind-compiled-html binding ?\n",
    "kor_sents = re.findall(r'<span class=\"u_word_dic\" data-hook=\"tip\" data-type=\"arken\" data-lang=\"ko\">(.+)</span>.</span></span>', page)\n",
    "\n",
    "# extracting other data (e.g. conversation title, grammar, grammar description, related words)"
   ]
  },
  {
   "cell_type": "markdown",
   "execution_count": null,
   "metadata": {
    "papermill": {
     "duration": 0.012874,
     "end_time": "2020-08-17T23:05:54.186099",
     "exception": false,
     "start_time": "2020-08-17T23:05:54.173225",
     "status": "completed"
    },
    "tags": []
   },
   "source": [
    "**Let's see if we're able to extract the data**"
   ]
  },
  {
   "cell_type": "code",
   "execution_count": 5,
   "metadata": {
    "execution": {
     "iopub.execute_input": "2020-08-17T23:05:54.218880Z",
     "iopub.status.busy": "2020-08-17T23:05:54.217820Z",
     "iopub.status.idle": "2020-08-17T23:05:54.223479Z",
     "shell.execute_reply": "2020-08-17T23:05:54.222577Z"
    },
    "papermill": {
     "duration": 0.02415,
     "end_time": "2020-08-17T23:05:54.223627",
     "exception": false,
     "start_time": "2020-08-17T23:05:54.199477",
     "status": "completed"
    },
    "tags": []
   },
   "outputs": [
    {
     "data": {
      "text/plain": [
       "['20200817']"
      ]
     },
     "execution_count": 5,
     "metadata": {},
     "output_type": "execute_result"
    }
   ],
   "source": [
    "date"
   ]
  },
  {
   "cell_type": "code",
   "execution_count": 6,
   "metadata": {
    "execution": {
     "iopub.execute_input": "2020-08-17T23:05:54.256743Z",
     "iopub.status.busy": "2020-08-17T23:05:54.255927Z",
     "iopub.status.idle": "2020-08-17T23:05:54.263427Z",
     "shell.execute_reply": "2020-08-17T23:05:54.262548Z"
    },
    "papermill": {
     "duration": 0.026472,
     "end_time": "2020-08-17T23:05:54.263589",
     "exception": false,
     "start_time": "2020-08-17T23:05:54.237117",
     "status": "completed"
    },
    "tags": []
   },
   "outputs": [
    {
     "data": {
      "text/plain": [
       "[]"
      ]
     },
     "execution_count": 6,
     "metadata": {},
     "output_type": "execute_result"
    }
   ],
   "source": [
    "kor_sents"
   ]
  },
  {
   "cell_type": "code",
   "execution_count": 7,
   "metadata": {
    "execution": {
     "iopub.execute_input": "2020-08-17T23:05:54.297123Z",
     "iopub.status.busy": "2020-08-17T23:05:54.296244Z",
     "iopub.status.idle": "2020-08-17T23:05:54.300759Z",
     "shell.execute_reply": "2020-08-17T23:05:54.300154Z"
    },
    "papermill": {
     "duration": 0.023697,
     "end_time": "2020-08-17T23:05:54.300891",
     "exception": false,
     "start_time": "2020-08-17T23:05:54.277194",
     "status": "completed"
    },
    "tags": []
   },
   "outputs": [
    {
     "data": {
      "text/plain": [
       "[]"
      ]
     },
     "execution_count": 7,
     "metadata": {},
     "output_type": "execute_result"
    }
   ],
   "source": [
    "eng_sents"
   ]
  },
  {
   "cell_type": "markdown",
   "execution_count": null,
   "metadata": {
    "papermill": {
     "duration": 0.013644,
     "end_time": "2020-08-17T23:05:54.328186",
     "exception": false,
     "start_time": "2020-08-17T23:05:54.314542",
     "status": "completed"
    },
    "tags": []
   },
   "source": [
    "The sentence pairs were not extracted because the page source we retrieved is incomplete.\n",
    "\n",
    "Maybe I'll try a headless Firefox browser here to download the complete webpage from the browser."
   ]
  },
  {
   "cell_type": "markdown",
   "execution_count": null,
   "metadata": {
    "papermill": {
     "duration": 0.013758,
     "end_time": "2020-08-17T23:05:54.355774",
     "exception": false,
     "start_time": "2020-08-17T23:05:54.342016",
     "status": "completed"
    },
    "tags": []
   },
   "source": [
    "# Web Scraping via headless Firefox with Selenium"
   ]
  },
  {
   "cell_type": "markdown",
   "execution_count": null,
   "metadata": {
    "papermill": {
     "duration": 0.01335,
     "end_time": "2020-08-17T23:05:54.382986",
     "exception": false,
     "start_time": "2020-08-17T23:05:54.369636",
     "status": "completed"
    },
    "tags": []
   },
   "source": [
    "Installing Firefox browser"
   ]
  },
  {
   "cell_type": "code",
   "execution_count": 8,
   "metadata": {
    "execution": {
     "iopub.execute_input": "2020-08-17T23:05:54.419444Z",
     "iopub.status.busy": "2020-08-17T23:05:54.418580Z",
     "iopub.status.idle": "2020-08-17T23:05:55.200886Z",
     "shell.execute_reply": "2020-08-17T23:05:55.200129Z"
    },
    "papermill": {
     "duration": 0.804261,
     "end_time": "2020-08-17T23:05:55.201027",
     "exception": false,
     "start_time": "2020-08-17T23:05:54.396766",
     "status": "completed"
    },
    "tags": []
   },
   "outputs": [
    {
     "name": "stdout",
     "output_type": "stream",
     "text": [
      "NAME=\"Ubuntu\"\r\n",
      "VERSION=\"18.04.4 LTS (Bionic Beaver)\"\r\n",
      "ID=ubuntu\r\n",
      "ID_LIKE=debian\r\n",
      "PRETTY_NAME=\"Ubuntu 18.04.4 LTS\"\r\n",
      "VERSION_ID=\"18.04\"\r\n",
      "HOME_URL=\"https://www.ubuntu.com/\"\r\n",
      "SUPPORT_URL=\"https://help.ubuntu.com/\"\r\n",
      "BUG_REPORT_URL=\"https://bugs.launchpad.net/ubuntu/\"\r\n",
      "PRIVACY_POLICY_URL=\"https://www.ubuntu.com/legal/terms-and-policies/privacy-policy\"\r\n",
      "VERSION_CODENAME=bionic\r\n",
      "UBUNTU_CODENAME=bionic\r\n"
     ]
    }
   ],
   "source": [
    "# Checking kernel OS info\n",
    "!cat /etc/os-release"
   ]
  },
  {
   "cell_type": "markdown",
   "execution_count": null,
   "metadata": {
    "papermill": {
     "duration": 0.013437,
     "end_time": "2020-08-17T23:05:55.228366",
     "exception": false,
     "start_time": "2020-08-17T23:05:55.214929",
     "status": "completed"
    },
    "tags": []
   },
   "source": [
    "Cool! Just like what I'm using right now."
   ]
  },
  {
   "cell_type": "code",
   "execution_count": 9,
   "metadata": {
    "execution": {
     "iopub.execute_input": "2020-08-17T23:05:55.268165Z",
     "iopub.status.busy": "2020-08-17T23:05:55.264033Z",
     "iopub.status.idle": "2020-08-17T23:06:18.839672Z",
     "shell.execute_reply": "2020-08-17T23:06:18.838659Z"
    },
    "papermill": {
     "duration": 23.597666,
     "end_time": "2020-08-17T23:06:18.839846",
     "exception": false,
     "start_time": "2020-08-17T23:05:55.242180",
     "status": "completed"
    },
    "tags": []
   },
   "outputs": [
    {
     "name": "stdout",
     "output_type": "stream",
     "text": [
      "--2020-08-17 23:05:56--  https://download-installer.cdn.mozilla.net/pub/firefox/releases/79.0/linux-x86_64/en-US/firefox-79.0.tar.bz2\r\n",
      "Resolving download-installer.cdn.mozilla.net (download-installer.cdn.mozilla.net)... 143.204.134.60, 2600:9000:21c4:c800:e:19d6:1546:5981, 2600:9000:21c4:c200:e:19d6:1546:5981, ...\r\n",
      "Connecting to download-installer.cdn.mozilla.net (download-installer.cdn.mozilla.net)|143.204.134.60|:443... connected.\r\n",
      "HTTP request sent, awaiting response... 200 OK\r\n",
      "Length: 71210168 (68M) [application/x-tar]\r\n",
      "Saving to: ‘firefox-79.0.tar.bz2’\r\n",
      "\r\n",
      "firefox-79.0.tar.bz 100%[===================>]  67.91M  20.0MB/s    in 4.2s    \r\n",
      "\r\n",
      "2020-08-17 23:06:00 (16.3 MB/s) - ‘firefox-79.0.tar.bz2’ saved [71210168/71210168]\r\n",
      "\r\n"
     ]
    }
   ],
   "source": [
    "# Downloading Firefox for Linux\n",
    "!wget 'https://download-installer.cdn.mozilla.net/pub/firefox/releases/79.0/linux-x86_64/en-US/firefox-79.0.tar.bz2'\n",
    "\n",
    "# Extracting Firefox binary\n",
    "!tar -xjf 'firefox-79.0.tar.bz2'"
   ]
  },
  {
   "cell_type": "code",
   "execution_count": 10,
   "metadata": {
    "execution": {
     "iopub.execute_input": "2020-08-17T23:06:18.883194Z",
     "iopub.status.busy": "2020-08-17T23:06:18.878741Z",
     "iopub.status.idle": "2020-08-17T23:06:19.638590Z",
     "shell.execute_reply": "2020-08-17T23:06:19.637865Z"
    },
    "papermill": {
     "duration": 0.782232,
     "end_time": "2020-08-17T23:06:19.638748",
     "exception": false,
     "start_time": "2020-08-17T23:06:18.856516",
     "status": "completed"
    },
    "tags": []
   },
   "outputs": [
    {
     "name": "stdout",
     "output_type": "stream",
     "text": [
      "__notebook__.ipynb  firefox  firefox-79.0.tar.bz2\r\n"
     ]
    }
   ],
   "source": [
    "# Checking working directory\n",
    "!ls /kaggle/working"
   ]
  },
  {
   "cell_type": "code",
   "execution_count": 11,
   "metadata": {
    "execution": {
     "iopub.execute_input": "2020-08-17T23:06:19.683444Z",
     "iopub.status.busy": "2020-08-17T23:06:19.682260Z",
     "iopub.status.idle": "2020-08-17T23:06:20.432748Z",
     "shell.execute_reply": "2020-08-17T23:06:20.431872Z"
    },
    "papermill": {
     "duration": 0.777539,
     "end_time": "2020-08-17T23:06:20.432896",
     "exception": false,
     "start_time": "2020-08-17T23:06:19.655357",
     "status": "completed"
    },
    "tags": []
   },
   "outputs": [],
   "source": [
    "# Adding read/write/execute capabilities to 'firefox' directory\n",
    "!chmod -R 777 '../working/firefox'"
   ]
  },
  {
   "cell_type": "code",
   "execution_count": 12,
   "metadata": {
    "execution": {
     "iopub.execute_input": "2020-08-17T23:06:20.473466Z",
     "iopub.status.busy": "2020-08-17T23:06:20.472523Z",
     "iopub.status.idle": "2020-08-17T23:06:28.055213Z",
     "shell.execute_reply": "2020-08-17T23:06:28.054347Z"
    },
    "papermill": {
     "duration": 7.6058,
     "end_time": "2020-08-17T23:06:28.055357",
     "exception": false,
     "start_time": "2020-08-17T23:06:20.449557",
     "status": "completed"
    },
    "tags": []
   },
   "outputs": [
    {
     "name": "stdout",
     "output_type": "stream",
     "text": [
      "\r\n",
      "\r\n",
      "\r\n",
      "libgtk-3-0 is already the newest version (3.22.30-1ubuntu4).\r\n",
      "libgtk-3-0 set to manually installed.\r\n",
      "xvfb is already the newest version (2:1.19.6-1ubuntu4.4).\r\n",
      "The following NEW packages will be installed:\r\n",
      "  libdbus-glib-1-2\r\n",
      "0 upgraded, 1 newly installed, 0 to remove and 66 not upgraded.\r\n",
      "Need to get 58.3 kB of archives.\r\n",
      "After this operation, 203 kB of additional disk space will be used.\r\n",
      "Get:1 http://archive.ubuntu.com/ubuntu bionic/main amd64 libdbus-glib-1-2 amd64 0.110-2 [58.3 kB]\r\n",
      "Fetched 58.3 kB in 1s (43.0 kB/s)\r\n",
      "debconf: delaying package configuration, since apt-utils is not installed\r\n",
      "Selecting previously unselected package libdbus-glib-1-2:amd64.\r\n",
      "(Reading database ... 107896 files and directories currently installed.)\r\n",
      "Preparing to unpack .../libdbus-glib-1-2_0.110-2_amd64.deb ...\r\n",
      "Unpacking libdbus-glib-1-2:amd64 (0.110-2) ...\r\n",
      "Setting up libdbus-glib-1-2:amd64 (0.110-2) ...\r\n",
      "Processing triggers for libc-bin (2.27-3ubuntu1) ...\r\n"
     ]
    }
   ],
   "source": [
    "# Installing Firefox dependencies\n",
    "!apt-get install -y libgtk-3-0 libdbus-glib-1-2 xvfb"
   ]
  },
  {
   "cell_type": "markdown",
   "execution_count": null,
   "metadata": {
    "papermill": {
     "duration": 0.01811,
     "end_time": "2020-08-17T23:06:28.091819",
     "exception": false,
     "start_time": "2020-08-17T23:06:28.073709",
     "status": "completed"
    },
    "tags": []
   },
   "source": [
    "Installing GeckoDriver "
   ]
  },
  {
   "cell_type": "code",
   "execution_count": 13,
   "metadata": {
    "execution": {
     "iopub.execute_input": "2020-08-17T23:06:28.135181Z",
     "iopub.status.busy": "2020-08-17T23:06:28.134283Z",
     "iopub.status.idle": "2020-08-17T23:06:41.140313Z",
     "shell.execute_reply": "2020-08-17T23:06:41.139409Z"
    },
    "papermill": {
     "duration": 13.030608,
     "end_time": "2020-08-17T23:06:41.140456",
     "exception": false,
     "start_time": "2020-08-17T23:06:28.109848",
     "status": "completed"
    },
    "tags": []
   },
   "outputs": [
    {
     "name": "stdout",
     "output_type": "stream",
     "text": [
      "Collecting webdriverdownloader\r\n",
      "  Downloading webdriverdownloader-1.1.0.3-py2.py3-none-any.whl (10 kB)\r\n",
      "Requirement already satisfied: beautifulsoup4 in /opt/conda/lib/python3.7/site-packages (from webdriverdownloader) (4.9.0)\r\n",
      "Requirement already satisfied: tqdm in /opt/conda/lib/python3.7/site-packages (from webdriverdownloader) (4.45.0)\r\n",
      "Requirement already satisfied: requests in /opt/conda/lib/python3.7/site-packages (from webdriverdownloader) (2.23.0)\r\n",
      "Requirement already satisfied: soupsieve>1.2 in /opt/conda/lib/python3.7/site-packages (from beautifulsoup4->webdriverdownloader) (1.9.4)\r\n",
      "Requirement already satisfied: urllib3!=1.25.0,!=1.25.1,<1.26,>=1.21.1 in /opt/conda/lib/python3.7/site-packages (from requests->webdriverdownloader) (1.24.3)\r\n",
      "Requirement already satisfied: idna<3,>=2.5 in /opt/conda/lib/python3.7/site-packages (from requests->webdriverdownloader) (2.9)\r\n",
      "Requirement already satisfied: chardet<4,>=3.0.2 in /opt/conda/lib/python3.7/site-packages (from requests->webdriverdownloader) (3.0.4)\r\n",
      "Requirement already satisfied: certifi>=2017.4.17 in /opt/conda/lib/python3.7/site-packages (from requests->webdriverdownloader) (2020.6.20)\r\n",
      "Installing collected packages: webdriverdownloader\r\n",
      "Successfully installed webdriverdownloader-1.1.0.3\r\n",
      "\u001b[33mWARNING: You are using pip version 20.2.1; however, version 20.2.2 is available.\r\n",
      "You should consider upgrading via the '/opt/conda/bin/python3.7 -m pip install --upgrade pip' command.\u001b[0m\r\n"
     ]
    }
   ],
   "source": [
    "# Installing Python module for automatic handling of GeckoDriver download and installation\n",
    "!pip install webdriverdownloader"
   ]
  },
  {
   "cell_type": "code",
   "execution_count": 14,
   "metadata": {
    "execution": {
     "iopub.execute_input": "2020-08-17T23:06:41.186340Z",
     "iopub.status.busy": "2020-08-17T23:06:41.185028Z",
     "iopub.status.idle": "2020-08-17T23:06:45.792596Z",
     "shell.execute_reply": "2020-08-17T23:06:45.791688Z"
    },
    "papermill": {
     "duration": 4.633181,
     "end_time": "2020-08-17T23:06:45.792767",
     "exception": false,
     "start_time": "2020-08-17T23:06:41.159586",
     "status": "completed"
    },
    "tags": []
   },
   "outputs": [
    {
     "name": "stderr",
     "output_type": "stream",
     "text": [
      "3786kb [00:01, 2607.24kb/s]                        \n"
     ]
    },
    {
     "data": {
      "text/plain": [
       "('/usr/local/webdriver/gecko/v0.23.0/geckodriver-v0.23.0-linux64/geckodriver',\n",
       " '/usr/local/bin/geckodriver')"
      ]
     },
     "execution_count": 14,
     "metadata": {},
     "output_type": "execute_result"
    }
   ],
   "source": [
    "# Installing GeckoDriver\n",
    "from webdriverdownloader import GeckoDriverDownloader\n",
    "\n",
    "gdd = GeckoDriverDownloader()\n",
    "gdd.download_and_install('v0.23.0')"
   ]
  },
  {
   "cell_type": "code",
   "execution_count": 15,
   "metadata": {
    "execution": {
     "iopub.execute_input": "2020-08-17T23:06:45.843429Z",
     "iopub.status.busy": "2020-08-17T23:06:45.838276Z",
     "iopub.status.idle": "2020-08-17T23:06:57.326019Z",
     "shell.execute_reply": "2020-08-17T23:06:57.325002Z"
    },
    "papermill": {
     "duration": 11.513535,
     "end_time": "2020-08-17T23:06:57.326284",
     "exception": false,
     "start_time": "2020-08-17T23:06:45.812749",
     "status": "completed"
    },
    "tags": []
   },
   "outputs": [
    {
     "name": "stdout",
     "output_type": "stream",
     "text": [
      "Collecting selenium\r\n",
      "  Downloading selenium-3.141.0-py2.py3-none-any.whl (904 kB)\r\n",
      "\u001b[K     |████████████████████████████████| 904 kB 193 kB/s \r\n",
      "\u001b[?25hRequirement already satisfied: urllib3 in /opt/conda/lib/python3.7/site-packages (from selenium) (1.24.3)\r\n",
      "Installing collected packages: selenium\r\n",
      "Successfully installed selenium-3.141.0\r\n",
      "\u001b[33mWARNING: You are using pip version 20.2.1; however, version 20.2.2 is available.\r\n",
      "You should consider upgrading via the '/opt/conda/bin/python3.7 -m pip install --upgrade pip' command.\u001b[0m\r\n"
     ]
    }
   ],
   "source": [
    "# Installing Selenium\n",
    "!pip install selenium"
   ]
  },
  {
   "cell_type": "code",
   "execution_count": 16,
   "metadata": {
    "execution": {
     "iopub.execute_input": "2020-08-17T23:06:57.384686Z",
     "iopub.status.busy": "2020-08-17T23:06:57.383832Z",
     "iopub.status.idle": "2020-08-17T23:06:58.570117Z",
     "shell.execute_reply": "2020-08-17T23:06:58.568636Z"
    },
    "papermill": {
     "duration": 1.217972,
     "end_time": "2020-08-17T23:06:58.570303",
     "exception": false,
     "start_time": "2020-08-17T23:06:57.352331",
     "status": "completed"
    },
    "tags": []
   },
   "outputs": [],
   "source": [
    "# Loading Python modules to use\n",
    "import pandas as pd\n",
    "import seaborn as sns\n",
    "from IPython.display import Image\n",
    "import time\n",
    "\n",
    "from selenium import webdriver as selenium_webdriver\n",
    "from selenium.webdriver.firefox.options import Options as selenium_options\n",
    "from selenium.webdriver.common.desired_capabilities import DesiredCapabilities as selenium_DesiredCapabilities\n",
    "\n",
    "from selenium.webdriver.common.by  import By as selenium_By\n",
    "from selenium.webdriver.support.ui import Select as selenium_Select\n",
    "from selenium.webdriver.support.ui import WebDriverWait as selenium_WebDriverWait\n",
    "from selenium.webdriver.support    import expected_conditions as selenium_ec"
   ]
  },
  {
   "cell_type": "code",
   "execution_count": 17,
   "metadata": {
    "execution": {
     "iopub.execute_input": "2020-08-17T23:06:58.628171Z",
     "iopub.status.busy": "2020-08-17T23:06:58.623103Z",
     "iopub.status.idle": "2020-08-17T23:06:59.371309Z",
     "shell.execute_reply": "2020-08-17T23:06:59.370582Z"
    },
    "papermill": {
     "duration": 0.776329,
     "end_time": "2020-08-17T23:06:59.371476",
     "exception": false,
     "start_time": "2020-08-17T23:06:58.595147",
     "status": "completed"
    },
    "tags": []
   },
   "outputs": [],
   "source": [
    "# Setting up a virtual screen for Firefox\n",
    "!export DISPLAY=:99"
   ]
  },
  {
   "cell_type": "code",
   "execution_count": 18,
   "metadata": {
    "execution": {
     "iopub.execute_input": "2020-08-17T23:06:59.424778Z",
     "iopub.status.busy": "2020-08-17T23:06:59.423509Z",
     "iopub.status.idle": "2020-08-17T23:07:03.017987Z",
     "shell.execute_reply": "2020-08-17T23:07:03.016865Z"
    },
    "papermill": {
     "duration": 3.624913,
     "end_time": "2020-08-17T23:07:03.018199",
     "exception": false,
     "start_time": "2020-08-17T23:06:59.393286",
     "status": "completed"
    },
    "tags": []
   },
   "outputs": [],
   "source": [
    "# Firing up a headless browser session with a screen size of 1920x1080\n",
    "browser_options = selenium_options()\n",
    "browser_options.add_argument(\"--headless\")\n",
    "browser_options.add_argument(\"--window-size=1920,1080\")\n",
    "\n",
    "capabilities_argument = selenium_DesiredCapabilities().FIREFOX\n",
    "capabilities_argument[\"marionette\"] = True\n",
    "\n",
    "browser = selenium_webdriver.Firefox(\n",
    "    options=browser_options,\n",
    "    firefox_binary=\"../working/firefox/firefox\",\n",
    "    capabilities=capabilities_argument\n",
    ")"
   ]
  },
  {
   "cell_type": "code",
   "execution_count": 19,
   "metadata": {
    "execution": {
     "iopub.execute_input": "2020-08-17T23:07:03.074477Z",
     "iopub.status.busy": "2020-08-17T23:07:03.073253Z",
     "iopub.status.idle": "2020-08-17T23:07:09.554359Z",
     "shell.execute_reply": "2020-08-17T23:07:09.555344Z"
    },
    "papermill": {
     "duration": 6.513344,
     "end_time": "2020-08-17T23:07:09.555640",
     "exception": false,
     "start_time": "2020-08-17T23:07:03.042296",
     "status": "completed"
    },
    "tags": []
   },
   "outputs": [
    {
     "name": "stdout",
     "output_type": "stream",
     "text": [
      "https://learn.dict.naver.com/conversation#/korean-en\n"
     ]
    },
    {
     "data": {
      "image/png": "[encoded data removed]",
      "text/plain": [
       "<IPython.core.display.Image object>"
      ]
     },
     "execution_count": 19,
     "metadata": {
      "image/png": {
       "height": 500,
       "width": 800
      }
     },
     "output_type": "execute_result"
    }
   ],
   "source": [
    "# Navigating to website\n",
    "browser.get(\"https://learn.dict.naver.com/conversation#/korean-en\")\n",
    "print(browser.current_url)\n",
    "\n",
    "# Giving the page up to 10 seconds to load\n",
    "wait = selenium_WebDriverWait(browser, 10)\n",
    "wait.until(selenium_ec.visibility_of_element_located((selenium_By.XPATH, '//div[@class=\"reading_lst_wrap\"]')))\n",
    "\n",
    "# Taking a screenshot of the webpage\n",
    "browser.save_screenshot(\"screenshot.png\")\n",
    "Image(\"screenshot.png\", width=800, height=500)"
   ]
  },
  {
   "cell_type": "markdown",
   "execution_count": null,
   "metadata": {
    "papermill": {
     "duration": 0.024174,
     "end_time": "2020-08-17T23:07:09.605738",
     "exception": false,
     "start_time": "2020-08-17T23:07:09.581564",
     "status": "completed"
    },
    "tags": []
   },
   "source": [
    "Awesome! Looks like we're on the same page."
   ]
  },
  {
   "cell_type": "markdown",
   "execution_count": null,
   "metadata": {
    "papermill": {
     "duration": 0.025446,
     "end_time": "2020-08-17T23:07:09.656026",
     "exception": false,
     "start_time": "2020-08-17T23:07:09.630580",
     "status": "completed"
    },
    "tags": []
   },
   "source": [
    "**Viewing page source**"
   ]
  },
  {
   "cell_type": "code",
   "execution_count": 20,
   "metadata": {
    "execution": {
     "iopub.execute_input": "2020-08-17T23:07:09.716073Z",
     "iopub.status.busy": "2020-08-17T23:07:09.715111Z",
     "iopub.status.idle": "2020-08-17T23:07:19.798515Z",
     "shell.execute_reply": "2020-08-17T23:07:19.797574Z"
    },
    "papermill": {
     "duration": 10.117502,
     "end_time": "2020-08-17T23:07:19.798718",
     "exception": false,
     "start_time": "2020-08-17T23:07:09.681216",
     "status": "completed"
    },
    "tags": []
   },
   "outputs": [
    {
     "data": {
      "text/plain": [
       "'<html xml:lang=\"ko\" ng-app=\"mainApp\" ng-controller=\"htmlController\" class=\"ng-scope\"><head><style type=\"text/css\">@charset \"UTF-8\";[ng\\\\:cloak],[ng-cloak],[data-ng-cloak],[x-ng-cloak],.ng-cloak,.x-ng-cloak,.ng-hide:not(.ng-hide-animate){display:none !important;}ng\\\\:form{display:block;}.ng-animate-shim{visibility:hidden;}.ng-anchor{position:absolute;}</style>\\n\\t\\t<meta charset=\"utf-8\">\\n\\t\\t<meta http-equiv=\"X-XSS-Protection\" content=\"1\">\\n\\t\\t<meta name=\"viewport\" id=\"viewport\" content=\"initial-scale=1.0,minimum-scale=1.0,maximum-scale=1.0,user-scalable=no\">\\n\\t\\t<!-- for Facebook -->\\n\\t\\t<meta property=\"og:title\" id=\"ogTitle\" content=\"오늘의 회화 - 혹시 서연 씨에게 관심 있는 거 아니에요?\">\\n\\t\\t<meta property=\"og:type\" content=\"article\">\\n\\t\\t<meta property=\"og:description\" id=\"ogDesc\" content=\"오늘은 어떤 내용일까요? 지금 확인해보세요!\">\\n\\t\\t<meta property=\"og:image\" content=\"https://ssl.pstatic.net/dicimg/wordbook-mobile-endic/img/enwordbook_icon_20171204.png\">\\n\\t\\t<meta property=\"og:url\" id=\"ogUrl\" content=\"http://m.wordbook.naver.com/endic/to'"
      ]
     },
     "execution_count": 20,
     "metadata": {},
     "output_type": "execute_result"
    }
   ],
   "source": [
    "# Waiting for another 10 seconds to make sure the page is complete\n",
    "time.sleep(10)\n",
    "\n",
    "# Retrieving page source\n",
    "page = browser.page_source\n",
    "page[0:1000]"
   ]
  },
  {
   "cell_type": "markdown",
   "execution_count": null,
   "metadata": {
    "papermill": {
     "duration": 0.02499,
     "end_time": "2020-08-17T23:07:19.852802",
     "exception": false,
     "start_time": "2020-08-17T23:07:19.827812",
     "status": "completed"
    },
    "tags": []
   },
   "source": [
    "A bit messy.. Let's use regular expressions to find what we need."
   ]
  },
  {
   "cell_type": "code",
   "execution_count": 21,
   "metadata": {
    "execution": {
     "iopub.execute_input": "2020-08-17T23:07:19.921566Z",
     "iopub.status.busy": "2020-08-17T23:07:19.920382Z",
     "iopub.status.idle": "2020-08-17T23:07:19.931770Z",
     "shell.execute_reply": "2020-08-17T23:07:19.930848Z"
    },
    "papermill": {
     "duration": 0.053262,
     "end_time": "2020-08-17T23:07:19.931913",
     "exception": false,
     "start_time": "2020-08-17T23:07:19.878651",
     "status": "completed"
    },
    "tags": []
   },
   "outputs": [],
   "source": [
    "# regex to extract conversation date\n",
    "date = re.findall(r'var regionDate = \"([0-9]+)\"', page)\n",
    "# regex to extract conversation title in korean\n",
    "kor_title = re.findall(r'id=\"ogTitle\" content=\"오늘의 회화 - (.+)\">', page)\n",
    "# regex to extract conversation title in english\n",
    "eng_title = re.findall(r'<span class=\"txt_trans ng-binding\" ng-bind=\"title_translation\">(.+)</span>', page)\n",
    "# regex to extract sentence pairs\n",
    "eng_sents = re.findall(r'<div.+item.trsl_sentence\">(.+)</div>', page)\n",
    "kor_sents = re.findall(r'<span class=\"u_word_dic\" data-hook=\"tip\" data-type=\"arken\" data-lang=\"ko\">(.+)</span></span>', page)"
   ]
  },
  {
   "cell_type": "markdown",
   "execution_count": null,
   "metadata": {
    "papermill": {
     "duration": 0.025604,
     "end_time": "2020-08-17T23:07:19.981966",
     "exception": false,
     "start_time": "2020-08-17T23:07:19.956362",
     "status": "completed"
    },
    "tags": []
   },
   "source": [
    "Did we get it?"
   ]
  },
  {
   "cell_type": "code",
   "execution_count": 22,
   "metadata": {
    "execution": {
     "iopub.execute_input": "2020-08-17T23:07:20.042747Z",
     "iopub.status.busy": "2020-08-17T23:07:20.041727Z",
     "iopub.status.idle": "2020-08-17T23:07:20.047772Z",
     "shell.execute_reply": "2020-08-17T23:07:20.046473Z"
    },
    "papermill": {
     "duration": 0.037787,
     "end_time": "2020-08-17T23:07:20.047935",
     "exception": false,
     "start_time": "2020-08-17T23:07:20.010148",
     "status": "completed"
    },
    "tags": []
   },
   "outputs": [
    {
     "data": {
      "text/plain": [
       "['20200817']"
      ]
     },
     "execution_count": 22,
     "metadata": {},
     "output_type": "execute_result"
    }
   ],
   "source": [
    "date"
   ]
  },
  {
   "cell_type": "code",
   "execution_count": 23,
   "metadata": {
    "execution": {
     "iopub.execute_input": "2020-08-17T23:07:20.106416Z",
     "iopub.status.busy": "2020-08-17T23:07:20.105110Z",
     "iopub.status.idle": "2020-08-17T23:07:20.111617Z",
     "shell.execute_reply": "2020-08-17T23:07:20.110699Z"
    },
    "papermill": {
     "duration": 0.038106,
     "end_time": "2020-08-17T23:07:20.111766",
     "exception": false,
     "start_time": "2020-08-17T23:07:20.073660",
     "status": "completed"
    },
    "tags": []
   },
   "outputs": [
    {
     "data": {
      "text/plain": [
       "['혹시 서연 씨에게 관심 있는 거 아니에요?']"
      ]
     },
     "execution_count": 23,
     "metadata": {},
     "output_type": "execute_result"
    }
   ],
   "source": [
    "kor_title"
   ]
  },
  {
   "cell_type": "code",
   "execution_count": 24,
   "metadata": {
    "execution": {
     "iopub.execute_input": "2020-08-17T23:07:20.168891Z",
     "iopub.status.busy": "2020-08-17T23:07:20.167923Z",
     "iopub.status.idle": "2020-08-17T23:07:20.174503Z",
     "shell.execute_reply": "2020-08-17T23:07:20.173781Z"
    },
    "papermill": {
     "duration": 0.037136,
     "end_time": "2020-08-17T23:07:20.174642",
     "exception": false,
     "start_time": "2020-08-17T23:07:20.137506",
     "status": "completed"
    },
    "tags": []
   },
   "outputs": [
    {
     "data": {
      "text/plain": [
       "[\"By any chance, isn't it true that you are interested in Ms. Seoyon?\"]"
      ]
     },
     "execution_count": 24,
     "metadata": {},
     "output_type": "execute_result"
    }
   ],
   "source": [
    "eng_title"
   ]
  },
  {
   "cell_type": "code",
   "execution_count": 25,
   "metadata": {
    "execution": {
     "iopub.execute_input": "2020-08-17T23:07:20.232244Z",
     "iopub.status.busy": "2020-08-17T23:07:20.231137Z",
     "iopub.status.idle": "2020-08-17T23:07:20.237495Z",
     "shell.execute_reply": "2020-08-17T23:07:20.236566Z"
    },
    "papermill": {
     "duration": 0.036781,
     "end_time": "2020-08-17T23:07:20.237662",
     "exception": false,
     "start_time": "2020-08-17T23:07:20.200881",
     "status": "completed"
    },
    "tags": []
   },
   "outputs": [
    {
     "data": {
      "text/plain": [
       "['Mr. Steve, are you going to the club meeting?',\n",
       " 'Is Ms. Seoyon going, too?',\n",
       " 'Maybe she will go because she has nothing special.',\n",
       " 'Then, I will go, too.',\n",
       " \"By any chance, isn't it true that you are interested in Ms. Seoyon?\",\n",
       " \"Don’t tell Ms. Seoyon. It's a secret.\"]"
      ]
     },
     "execution_count": 25,
     "metadata": {},
     "output_type": "execute_result"
    }
   ],
   "source": [
    "eng_sents"
   ]
  },
  {
   "cell_type": "code",
   "execution_count": 26,
   "metadata": {
    "execution": {
     "iopub.execute_input": "2020-08-17T23:07:20.294464Z",
     "iopub.status.busy": "2020-08-17T23:07:20.293545Z",
     "iopub.status.idle": "2020-08-17T23:07:20.300295Z",
     "shell.execute_reply": "2020-08-17T23:07:20.299432Z"
    },
    "papermill": {
     "duration": 0.037926,
     "end_time": "2020-08-17T23:07:20.300451",
     "exception": false,
     "start_time": "2020-08-17T23:07:20.262525",
     "status": "completed"
    },
    "tags": []
   },
   "outputs": [
    {
     "data": {
      "text/plain": [
       "['스티브</span> <span class=\"u_word_dic\" data-hook=\"tip\" data-type=\"arken\" data-lang=\"ko\">씨도</span> <span class=\"u_word_dic\" data-hook=\"tip\" data-type=\"arken\" data-lang=\"ko\">오늘</span> <span class=\"u_word_dic\" data-hook=\"tip\" data-type=\"arken\" data-lang=\"ko\">동호회</span> <span class=\"u_word_dic\" data-hook=\"tip\" data-type=\"arken\" data-lang=\"ko\">모임에</span> <span class=\"u_word_dic\" data-hook=\"tip\" data-type=\"arken\" data-lang=\"ko\">갈</span> <span class=\"u_word_dic\" data-hook=\"tip\" data-type=\"arken\" data-lang=\"ko\">거지요</span>?',\n",
       " '서연</span> <span class=\"u_word_dic\" data-hook=\"tip\" data-type=\"arken\" data-lang=\"ko\">씨도</span> <span class=\"u_word_dic\" data-hook=\"tip\" data-type=\"arken\" data-lang=\"ko\">갈까요</span>?',\n",
       " '특별한</span> <span class=\"u_word_dic\" data-hook=\"tip\" data-type=\"arken\" data-lang=\"ko\">일이</span> <span class=\"u_word_dic\" data-hook=\"tip\" data-type=\"arken\" data-lang=\"ko\">없으니까</span> <span class=\"u_word_dic\" data-hook=\"tip\" data-type=\"arken\" data-lang=\"ko\">아마</span> <span class=\"u_word_dic\" data-hook=\"tip\" data-type=\"arken\" data-lang=\"ko\">갈</span> <span class=\"u_word_dic\" data-hook=\"tip\" data-type=\"arken\" data-lang=\"ko\">거예요</span>.',\n",
       " '그럼</span> <span class=\"u_word_dic\" data-hook=\"tip\" data-type=\"arken\" data-lang=\"ko\">저도</span> <span class=\"u_word_dic\" data-hook=\"tip\" data-type=\"arken\" data-lang=\"ko\">갈게요</span>.',\n",
       " '혹시</span> <span class=\"u_word_dic\" data-hook=\"tip\" data-type=\"arken\" data-lang=\"ko\">서연</span> <span class=\"u_word_dic\" data-hook=\"tip\" data-type=\"arken\" data-lang=\"ko\">씨에게</span> <span class=\"u_word_dic\" data-hook=\"tip\" data-type=\"arken\" data-lang=\"ko\">관심</span> <span class=\"u_word_dic\" data-hook=\"tip\" data-type=\"arken\" data-lang=\"ko\">있는</span> <span class=\"u_word_dic\" data-hook=\"tip\" data-type=\"arken\" data-lang=\"ko\">거</span> <span class=\"u_word_dic\" data-hook=\"tip\" data-type=\"arken\" data-lang=\"ko\">아니에요</span>?']"
      ]
     },
     "execution_count": 26,
     "metadata": {},
     "output_type": "execute_result"
    }
   ],
   "source": [
    "kor_sents[0:5]"
   ]
  },
  {
   "cell_type": "code",
   "execution_count": 27,
   "metadata": {
    "execution": {
     "iopub.execute_input": "2020-08-17T23:07:20.360430Z",
     "iopub.status.busy": "2020-08-17T23:07:20.359571Z",
     "iopub.status.idle": "2020-08-17T23:07:20.364078Z",
     "shell.execute_reply": "2020-08-17T23:07:20.363211Z"
    },
    "papermill": {
     "duration": 0.037697,
     "end_time": "2020-08-17T23:07:20.364231",
     "exception": false,
     "start_time": "2020-08-17T23:07:20.326534",
     "status": "completed"
    },
    "tags": []
   },
   "outputs": [],
   "source": [
    "# Stripping HTML tags from Korean sentences\n",
    "def strip_tags(sent):\n",
    "    sent = re.sub(r'<.+?>', '', sent)\n",
    "    return sent"
   ]
  },
  {
   "cell_type": "code",
   "execution_count": 28,
   "metadata": {
    "execution": {
     "iopub.execute_input": "2020-08-17T23:07:20.424416Z",
     "iopub.status.busy": "2020-08-17T23:07:20.422823Z",
     "iopub.status.idle": "2020-08-17T23:07:20.428742Z",
     "shell.execute_reply": "2020-08-17T23:07:20.427887Z"
    },
    "papermill": {
     "duration": 0.039104,
     "end_time": "2020-08-17T23:07:20.428911",
     "exception": false,
     "start_time": "2020-08-17T23:07:20.389807",
     "status": "completed"
    },
    "tags": []
   },
   "outputs": [
    {
     "data": {
      "text/plain": [
       "['스티브 씨도 오늘 동호회 모임에 갈 거지요?',\n",
       " '서연 씨도 갈까요?',\n",
       " '특별한 일이 없으니까 아마 갈 거예요.',\n",
       " '그럼 저도 갈게요.',\n",
       " '혹시 서연 씨에게 관심 있는 거 아니에요?',\n",
       " '서연 씨에게 말하지 마세요. 비밀이에요.']"
      ]
     },
     "execution_count": 28,
     "metadata": {},
     "output_type": "execute_result"
    }
   ],
   "source": [
    "kor_sents = list(map(strip_tags, kor_sents))\n",
    "kor_sents[0:len(eng_sents)]"
   ]
  },
  {
   "cell_type": "markdown",
   "execution_count": null,
   "metadata": {
    "papermill": {
     "duration": 0.025563,
     "end_time": "2020-08-17T23:07:20.479904",
     "exception": false,
     "start_time": "2020-08-17T23:07:20.454341",
     "status": "completed"
    },
    "tags": []
   },
   "source": [
    "Sweet!"
   ]
  },
  {
   "cell_type": "markdown",
   "execution_count": null,
   "metadata": {
    "papermill": {
     "duration": 0.025306,
     "end_time": "2020-08-17T23:07:20.532193",
     "exception": false,
     "start_time": "2020-08-17T23:07:20.506887",
     "status": "completed"
    },
    "tags": []
   },
   "source": [
    "**Extracting more variables**"
   ]
  },
  {
   "cell_type": "code",
   "execution_count": 29,
   "metadata": {
    "execution": {
     "iopub.execute_input": "2020-08-17T23:07:20.592877Z",
     "iopub.status.busy": "2020-08-17T23:07:20.591514Z",
     "iopub.status.idle": "2020-08-17T23:07:20.597691Z",
     "shell.execute_reply": "2020-08-17T23:07:20.596689Z"
    },
    "papermill": {
     "duration": 0.040616,
     "end_time": "2020-08-17T23:07:20.597859",
     "exception": false,
     "start_time": "2020-08-17T23:07:20.557243",
     "status": "completed"
    },
    "tags": []
   },
   "outputs": [
    {
     "data": {
      "text/plain": [
       "['Vst는/은/ㄴ 거 아니에요?']"
      ]
     },
     "execution_count": 29,
     "metadata": {},
     "output_type": "execute_result"
    }
   ],
   "source": [
    "# Extracting grammar of the day\n",
    "grammar = re.findall(r'<span jxb-bind-compiled-html.+item[.]entry_name.+\"ng-scope\">(.+)</span></span>\\s+</div>', page)\n",
    "grammar = list(map(strip_tags, grammar))\n",
    "grammar"
   ]
  },
  {
   "cell_type": "code",
   "execution_count": 30,
   "metadata": {
    "execution": {
     "iopub.execute_input": "2020-08-17T23:07:20.662668Z",
     "iopub.status.busy": "2020-08-17T23:07:20.661384Z",
     "iopub.status.idle": "2020-08-17T23:07:20.667103Z",
     "shell.execute_reply": "2020-08-17T23:07:20.666187Z"
    },
    "papermill": {
     "duration": 0.041372,
     "end_time": "2020-08-17T23:07:20.667263",
     "exception": false,
     "start_time": "2020-08-17T23:07:20.625891",
     "status": "completed"
    },
    "tags": []
   },
   "outputs": [
    {
     "data": {
      "text/plain": [
       "[\"It is used to ask the listener if the speaker's thought or guess is true or right. 'N인 거 아니에요?‘ is used after a noun.\"]"
      ]
     },
     "execution_count": 30,
     "metadata": {},
     "output_type": "execute_result"
    }
   ],
   "source": [
    "# Extracting grammar description\n",
    "grammar_desc = re.findall(r'<span class=\"txt_trans ng-binding\" ng-bind=\"item.mean\">(.+)</span>\\s+</div>', page)\n",
    "grammar_desc = list(map(strip_tags, grammar_desc))\n",
    "grammar_desc"
   ]
  },
  {
   "cell_type": "code",
   "execution_count": 31,
   "metadata": {
    "execution": {
     "iopub.execute_input": "2020-08-17T23:07:20.733809Z",
     "iopub.status.busy": "2020-08-17T23:07:20.732301Z",
     "iopub.status.idle": "2020-08-17T23:07:20.739286Z",
     "shell.execute_reply": "2020-08-17T23:07:20.738420Z"
    },
    "papermill": {
     "duration": 0.042346,
     "end_time": "2020-08-17T23:07:20.739431",
     "exception": false,
     "start_time": "2020-08-17T23:07:20.697085",
     "status": "completed"
    },
    "tags": []
   },
   "outputs": [
    {
     "data": {
      "text/plain": [
       "[\"Isn't it right that you put eggs into this dish?\",\n",
       " 'Isn’t it too much amount for two people to eat?',\n",
       " 'Isn’t it too early if you start now?']"
      ]
     },
     "execution_count": 31,
     "metadata": {},
     "output_type": "execute_result"
    }
   ],
   "source": [
    "# Extracting grammar of the day sentence examples\n",
    "grammar_sents_eng = re.findall(r'<span class=\"txt_trans ng-binding\" ng-bind-html=\"desc[.]trans.+toHtml\">(.+)</span>', page)\n",
    "grammar_sents_eng"
   ]
  },
  {
   "cell_type": "code",
   "execution_count": 32,
   "metadata": {
    "execution": {
     "iopub.execute_input": "2020-08-17T23:07:20.863037Z",
     "iopub.status.busy": "2020-08-17T23:07:20.861695Z",
     "iopub.status.idle": "2020-08-17T23:07:20.868278Z",
     "shell.execute_reply": "2020-08-17T23:07:20.867560Z"
    },
    "papermill": {
     "duration": 0.102183,
     "end_time": "2020-08-17T23:07:20.868454",
     "exception": false,
     "start_time": "2020-08-17T23:07:20.766271",
     "status": "completed"
    },
    "tags": []
   },
   "outputs": [
    {
     "data": {
      "text/plain": [
       "['이 음식에 계란 넣는 거 아니에요?', '두 사람이 먹는데 양이 너무 많은 거 아니에요?', '지금 출발하면 너무 이른 거 아니에요?']"
      ]
     },
     "execution_count": 32,
     "metadata": {},
     "output_type": "execute_result"
    }
   ],
   "source": [
    "grammar_sents_kor = re.findall(r'<span class=\"txt_origin ng-isolate-scope\" jxb-bind-compiled-html=\"toAutolinkText\\(desc[.]origin\\)\"><span class=\"ng-scope\"><span class=\"u_word_dic\" data-hook=\"tip\" data-type=\"arken\" data-lang=\"ko\">(.+)</span></span>', page)\n",
    "grammar_sents_kor = list(map(strip_tags, grammar_sents_kor))\n",
    "grammar_sents_kor"
   ]
  },
  {
   "cell_type": "markdown",
   "execution_count": null,
   "metadata": {
    "papermill": {
     "duration": 0.027546,
     "end_time": "2020-08-17T23:07:20.922829",
     "exception": false,
     "start_time": "2020-08-17T23:07:20.895283",
     "status": "completed"
    },
    "tags": []
   },
   "source": [
    "**Up next:**\n",
    "* Organizing variables for DataFrame creation\n",
    "* Looping through dates, extracting conversation per date\n",
    "* Making the dataset user-friendly"
   ]
  },
  {
   "cell_type": "markdown",
   "execution_count": null,
   "metadata": {
    "papermill": {
     "duration": 0.0286,
     "end_time": "2020-08-17T23:07:20.980602",
     "exception": false,
     "start_time": "2020-08-17T23:07:20.952002",
     "status": "completed"
    },
    "tags": []
   },
   "source": [
    "# References\n",
    "* [K-MOOC: Python Web Scraping](http://blog.naver.com/PostView.nhn?blogId=powhy123&logNo=221193422772&categoryNo=19&parentCategoryNo=0&viewDate=&currentPage=1&postListTopCurrentPage=1&from=postView)\n",
    "* [Kaggle web scraping via headless Firefox+selenium](https://www.kaggle.com/dierickx3/kaggle-web-scraping-via-headless-firefox-selenium)"
   ]
  }
 ],
 "metadata": {
  "kernelspec": {
   "display_name": "Python 3",
   "language": "python",
   "name": "python3"
  },
  "language_info": {
   "codemirror_mode": {
    "name": "ipython",
    "version": 3
   },
   "file_extension": ".py",
   "mimetype": "text/x-python",
   "name": "python",
   "nbconvert_exporter": "python",
   "pygments_lexer": "ipython3",
   "version": "3.7.6"
  },
  "papermill": {
   "duration": 94.776194,
   "end_time": "2020-08-17T23:07:21.119560",
   "environment_variables": {},
   "exception": null,
   "input_path": "__notebook__.ipynb",
   "output_path": "__notebook__.ipynb",
   "parameters": {},
   "start_time": "2020-08-17T23:05:46.343366",
   "version": "2.1.0"
  }
 },
 "nbformat": 4,
 "nbformat_minor": 4
}
